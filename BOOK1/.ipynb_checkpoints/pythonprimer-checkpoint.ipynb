{
 "cells": [
  {
   "cell_type": "code",
   "execution_count": 23,
   "metadata": {},
   "outputs": [
    {
     "name": "stdout",
     "output_type": "stream",
     "text": [
      "23 so you are young  43\n"
     ]
    }
   ],
   "source": [
    "date =  int(input(\"what is your age dude ?\"))\n",
    "cost = 43\n",
    "print(f\"{date} so you are young \", cost)"
   ]
  },
  {
   "cell_type": "code",
   "execution_count": 40,
   "metadata": {},
   "outputs": [
    {
     "name": "stdout",
     "output_type": "stream",
     "text": [
      "Your target fat-burning heart rate is 124.4685\n"
     ]
    }
   ],
   "source": [
    "age = int(input( \"Enter your age in years: \"))\n",
    "max_heart_rate = 206.9 - (0.67 * age) # as per Med Sci Sports Exerc.\n",
    "target = 0.65 * max_heart_rate\n",
    "print( \"Your target fat-burning heart rate is\" , target)"
   ]
  },
  {
   "cell_type": "code",
   "execution_count": 1,
   "metadata": {},
   "outputs": [
    {
     "name": "stdout",
     "output_type": "stream",
     "text": [
      "<_io.TextIOWrapper name='sample.txt' mode='r' encoding='UTF-8'>\n"
     ]
    }
   ],
   "source": [
    "sample = open(\"sample.txt\")\n",
    "print(sample)"
   ]
  }
 ],
 "metadata": {
  "kernelspec": {
   "display_name": "Python 3 (ipykernel)",
   "language": "python",
   "name": "python3"
  },
  "language_info": {
   "codemirror_mode": {
    "name": "ipython",
    "version": 3
   },
   "file_extension": ".py",
   "mimetype": "text/x-python",
   "name": "python",
   "nbconvert_exporter": "python",
   "pygments_lexer": "ipython3",
   "version": "3.10.7"
  }
 },
 "nbformat": 4,
 "nbformat_minor": 2
}
